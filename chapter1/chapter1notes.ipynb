{
 "cells": [
  {
   "cell_type": "markdown",
   "metadata": {},
   "source": [
    "بسم الله الرحمن الرحيم"
   ]
  },
  {
   "cell_type": "markdown",
   "metadata": {},
   "source": [
    "## Introduction to Python\n",
    "Python is an interpreted language. This means that Python code is executed line by line by an interpreter at runtime, rather than being compiled into machine code beforehand. When you run a Python script or execute Python code in an interactive mode, the Python interpreter reads and executes the code one line at a time.\n",
    "\n",
    "This interpretive nature of Python offers advantages in terms of code flexibility and ease of development, as you can quickly test and modify code without the need for a separate compilation step. However, it can also result in slower execution compared to languages that are compiled into machine code before running.\n",
    "\n",
    "It's worth noting that there are tools like PyInstaller and cx_Freeze that allow you to package Python code into executable files, but these are essentially bundling the Python interpreter along with your code and do not convert the code into native machine code.\n",
    "\n",
    "Python and Java are both powerful programming languages, and each has its own strengths and weaknesses. The choice between Python and Java often depends on the specific requirements of a project. Here are some advantages of Python over Java:\n",
    "\n",
    "1. **Readability and Simplicity:**\n",
    "   Python is known for its clean and readable syntax. Its code is often more concise and easier to understand than equivalent Java code. Python's emphasis on readability makes it a great language for beginners and helps in reducing the cost of program maintenance and development.\n",
    "\n",
    "2. **Ease of Learning:**\n",
    "   Python's syntax is straightforward and easy to learn. This makes it an excellent choice for beginners or for those who are transitioning from other programming languages.\n",
    "\n",
    "3. **Dynamic Typing and Dynamic Binding:**\n",
    "   Python is dynamically typed, meaning you don't have to declare the data type of a variable. This can lead to faster development times as you don't need to write as much code to accomplish the same task. Python also features dynamic binding, allowing for more flexibility in code.\n",
    "\n",
    "4. **Extensive Standard Library:**\n",
    "   Python comes with a comprehensive standard library that provides many modules and packages for common tasks. This can save development time, as you can leverage existing modules rather than building functionality from scratch.\n",
    "\n",
    "5. **Community and Ecosystem:**\n",
    "   Python has a large and active community. This means there are plenty of resources, libraries, and frameworks available for various tasks. Popular frameworks like Django (web development), Flask (web development), and NumPy (scientific computing) are widely used.\n",
    "\n",
    "6. **Versatility:**\n",
    "   Python is a versatile language suitable for a wide range of applications, including web development, data science, artificial intelligence, machine learning, automation, and more. It is often described as a \"glue\" language because it can easily integrate with other languages and technologies.\n",
    "\n",
    "7. **Rapid Prototyping and Development:**\n",
    "   Python's simplicity and readability contribute to rapid prototyping and development. This is especially beneficial for projects where quick iterations and experimentation are essential.\n",
    "\n",
    "8. **Platform Independence:**\n",
    "   Python is platform-independent, meaning that Python code can run on any platform without modification. This portability is facilitated by the fact that Python is an interpreted language.\n",
    "\n",
    "While Python has these advantages, Java also has its own strengths, such as strong static typing, a mature and robust ecosystem, and widespread use in enterprise applications. The choice between Python and Java ultimately depends on the specific requirements and goals of a given project."
   ]
  },
  {
   "cell_type": "code",
   "execution_count": 2,
   "metadata": {},
   "outputs": [],
   "source": [
    "points={'A+': 4.0, 'A': 4.0, 'A-': 3.67, 'B+': 3.33}\n",
    "num_courses=0\n",
    "total_points=0\n",
    "done=False\n",
    "while not done:\n",
    "    grade=input()\n",
    "    if grade==\"\":\n",
    "        done=True\n",
    "    elif grade not in points: \n",
    "        print(\"Unknown frade '{0} being ignored\".format(grade))\n",
    "    else:\n",
    "        num_courses+=1\n",
    "        total_points+=points[grade]\n",
    "if num_courses>0:\n",
    "    print('Your gpa is {0:.3}'.format(total_points/num_courses))"
   ]
  },
  {
   "cell_type": "markdown",
   "metadata": {},
   "source": [
    "\"Unknown grade '{0}' being ignored\": This is a string containing a message. The curly braces {0} are placeholders for values that will be inserted into the string. In this case, it's a placeholder for the grade variable.\n",
    "\n",
    ".format(grade): This is a method called on the string. It's used to format the string by replacing the placeholders with the values passed to the format method. In this case, it replaces {0} with the value of the grade variable.\n",
    " The format {0:.3} ensures that the GPA is displayed with three decimal places.\n",
    "\n",
    "If you enter \"a\", \"a+\", and \"b\" as inputs, the program will calculate the GPA based on the provided mapping in the `points` dictionary. Here's the breakdown of the expected output:\n",
    "\n",
    "a\n",
    "a+\n",
    "b\n",
    "\n",
    "Assuming the `points` dictionary remains as provided:\n",
    "\n",
    "\n",
    "points = {'A+': 4.0, 'A': 4.0, 'A-': 3.67, 'B+': 3.33}\n",
    "\n",
    "\n",
    "The program will output the GPA based on the entered grades:\n",
    "\n",
    "\n",
    "Your GPA is 3.777\n",
    "\n",
    "\n",
    "This is calculated as follows:\n",
    "\n",
    "- \"a\" corresponds to a GPA of 4.0.\n",
    "- \"a+\" corresponds to a GPA of 4.0.\n",
    "- \"b\" corresponds to a GPA of 3.33.\n",
    "\n",
    "The total GPA points are `4.0 + 4.0 + 3.33`, and the number of courses is 3. Therefore, the GPA is `11.33 / 3 = 3.777` (rounded to three decimal places)."
   ]
  },
  {
   "cell_type": "code",
   "execution_count": 3,
   "metadata": {},
   "outputs": [
    {
     "name": "stdout",
     "output_type": "stream",
     "text": [
      "This is a newline character.\n",
      "This is on a new line.\n"
     ]
    }
   ],
   "source": [
    "print(\"This is a newline character.\\nThis is on a new line.\")\n"
   ]
  },
  {
   "cell_type": "code",
   "execution_count": 4,
   "metadata": {},
   "outputs": [
    {
     "name": "stdout",
     "output_type": "stream",
     "text": [
      "32.230000000000004\n",
      "27.03\n",
      "30.23\n"
     ]
    }
   ],
   "source": [
    "temp=27.03\n",
    "newtemp=temp+5.2\n",
    "print(newtemp)\n",
    "print(temp)\n",
    "temp=temp+3.2\n",
    "print(temp)"
   ]
  },
  {
   "cell_type": "markdown",
   "metadata": {},
   "source": [
    "In Python, the `sorted()` function is used to sort elements in an iterable, such as a list, tuple, or string. The `sorted()` function returns a new sorted list from the elements of any iterable.\n",
    "\n",
    "### Syntax:\n",
    "\n",
    "```python\n",
    "sorted(iterable, key=key, reverse=reverse)\n",
    "```\n",
    "\n",
    "- **iterable:** The iterable to be sorted (e.g., a list, tuple, or string).\n",
    "- **key (optional):** A function that is used to extract a comparison key from each element. If not specified, elements are compared directly.\n",
    "- **reverse (optional):** If `True`, the elements are sorted in descending order; if `False` (default), the elements are sorted in ascending order.\n",
    "\n",
    "### Examples:\n",
    "\n",
    "#### Sorting a List:\n",
    "\n",
    "```python\n",
    "numbers = [3, 1, 4, 1, 5, 9, 2, 6, 5, 3, 5]\n",
    "sorted_numbers = sorted(numbers)\n",
    "print(sorted_numbers)\n",
    "# Output: [1, 1, 2, 3, 3, 4, 5, 5, 5, 6, 9]\n",
    "```\n",
    "\n",
    "#### Sorting a Tuple:\n",
    "\n",
    "```python\n",
    "my_tuple = (5, 2, 1, 8, 3)\n",
    "sorted_tuple = sorted(my_tuple)\n",
    "print(sorted_tuple)\n",
    "# Output: [1, 2, 3, 5, 8]\n",
    "```\n",
    "\n",
    "#### Sorting a String:\n",
    "\n",
    "```python\n",
    "my_string = \"python\"\n",
    "sorted_string = sorted(my_string)\n",
    "print(sorted_string)\n",
    "# Output: ['h', 'n', 'o', 'p', 't', 'y']\n",
    "```\n",
    "\n",
    "#### Sorting with a Custom Key:\n",
    "\n",
    "```python\n",
    "words = [\"apple\", \"banana\", \"cherry\", \"date\"]\n",
    "sorted_words_by_length = sorted(words, key=len)\n",
    "print(sorted_words_by_length)\n",
    "# Output: ['date', 'apple', 'banana', 'cherry']\n",
    "```\n",
    "\n",
    "#### Sorting in Descending Order:\n",
    "\n",
    "```python\n",
    "numbers = [3, 1, 4, 1, 5, 9, 2, 6, 5, 3, 5]\n",
    "sorted_numbers_desc = sorted(numbers, reverse=True)\n",
    "print(sorted_numbers_desc)\n",
    "# Output: [9, 6, 5, 5, 5, 4, 3, 3, 2, 1, 1]\n",
    "```\n",
    "\n",
    "The `sorted()` function does not modify the original iterable but instead returns a new sorted list. If you want to sort an iterable in place, you can use the `sort()` method for lists. Keep in mind that the `sort()` method modifies the original list and does not return a new one.\n",
    "The time complexity of the `sorted()` function in Python is typically \\(O(n \\log n)\\), where \\(n\\) is the number of elements in the iterable being sorted. This is because the underlying sorting algorithm used by `sorted()` is Timsort, which is a hybrid sorting algorithm derived from merge sort and insertion sort.\n",
    "\n",
    "Here's a brief overview:\n",
    "\n",
    "- **Best Case:** \\(O(n \\log n)\\)\n",
    "- **Average Case:** \\(O(n \\log n)\\)\n",
    "- **Worst Case:** \\(O(n \\log n)\\)\n",
    "\n",
    "Timsort is designed to perform well on many kinds of real-world data. It takes advantage of the fact that many real-world data sets are already partially ordered. The algorithm first divides the input into small chunks, sorts the chunks using an efficient algorithm (insertion sort), and then merges the chunks using a modified merge sort algorithm.\n",
    "\n",
    "It's important to note that the constant factors hidden by the big-O notation can also influence the actual performance of the sorting algorithm in practice. In many cases, Timsort is very efficient, especially for data that is already partially ordered or has some inherent structure."
   ]
  },
  {
   "cell_type": "markdown",
   "metadata": {},
   "source": [
    "The term \"member function\" is often associated with object-oriented programming (OOP) and refers to functions or methods that are associated with an object. The specific syntax might vary depending on the programming language.\n",
    "\n",
    "In Python, for example, methods are functions that are associated with an object and are defined within a class. Here's an example:\n",
    "\n",
    "python\n",
    "Copy code\n",
    "class MyClass:\n",
    "    def my_method(self):\n",
    "        print(\"This is a member function.\")\n",
    "\n",
    "# Creating an instance of the class\n",
    "my_object = MyClass()\n",
    "\n",
    "# Calling the member function\n",
    "my_object.my_method()\n",
    "In this example, my_method is a member function of the MyClass class. The self parameter is a reference to the instance of the class, allowing the method to access and modify attributes of the object."
   ]
  },
  {
   "cell_type": "code",
   "execution_count": 5,
   "metadata": {},
   "outputs": [
    {
     "name": "stdout",
     "output_type": "stream",
     "text": [
      "This is a member function.\n"
     ]
    }
   ],
   "source": [
    "class MyClass:\n",
    "    def my_method(self):\n",
    "        print(\"This is a member function.\")\n",
    "\n",
    "# Creating an instance of the class\n",
    "my_object = MyClass()\n",
    "\n",
    "# Calling the member function\n",
    "my_object.my_method()\n"
   ]
  },
  {
   "cell_type": "markdown",
   "metadata": {},
   "source": [
    "Accessors- does not change state of an object\n",
    "example- "
   ]
  },
  {
   "cell_type": "code",
   "execution_count": 6,
   "metadata": {},
   "outputs": [
    {
     "name": "stdout",
     "output_type": "stream",
     "text": [
      "Make: Toyota\n",
      "Model: Camry\n",
      "Year: 2022\n"
     ]
    }
   ],
   "source": [
    "class Car:\n",
    "    def __init__(self, make, model, year):\n",
    "        self.__make = make\n",
    "        self.__model = model\n",
    "        self.__year = year\n",
    "\n",
    "    # Accessor methods (getters)\n",
    "    def get_make(self):\n",
    "        return self.__make\n",
    "\n",
    "    def get_model(self):\n",
    "        return self.__model\n",
    "\n",
    "    def get_year(self):\n",
    "        return self.__year\n",
    "\n",
    "# Creating an instance of the Car class\n",
    "my_car = Car(\"Toyota\", \"Camry\", 2022)\n",
    "\n",
    "# Using accessor methods to retrieve attribute values\n",
    "make = my_car.get_make()\n",
    "model = my_car.get_model()\n",
    "year = my_car.get_year()\n",
    "\n",
    "# Displaying the values\n",
    "print(\"Make:\", make)\n",
    "print(\"Model:\", model)\n",
    "print(\"Year:\", year)\n"
   ]
  },
  {
   "cell_type": "markdown",
   "metadata": {},
   "source": [
    "In this example:\n",
    "\n",
    "The Car class has private attributes (__make, __model, and __year) marked by double underscores.\n",
    "Accessor methods (get_make, get_model, and get_year) are defined to retrieve the values of these attributes.\n",
    "By using accessor methods, you provide a controlled way for external code to access the internal state of an object. This is a common practice in object-oriented programming to encapsulate the internal details of a class and ensure data integrity.\n",
    "\n",
    "Note: In Python, attributes with a double underscore (e.g., __make) are name-mangled to include the class name, making them harder to accidentally access from outside the class. However, accessor methods are a more explicit and controlled way to access these attributes."
   ]
  },
  {
   "cell_type": "markdown",
   "metadata": {},
   "source": [
    "Mutators or update methods- change state of the object. example- sort()\n"
   ]
  },
  {
   "cell_type": "code",
   "execution_count": 7,
   "metadata": {},
   "outputs": [
    {
     "name": "stdout",
     "output_type": "stream",
     "text": [
      "Initial value: 0\n",
      "Updated value: 5\n"
     ]
    }
   ],
   "source": [
    "class Counter:\n",
    "    def __init__(self, value=0):\n",
    "        self.value = value\n",
    "\n",
    "    def increment(self, amount=1):\n",
    "        self.value += amount\n",
    "\n",
    "# Creating an instance of the Counter class\n",
    "counter = Counter()\n",
    "\n",
    "# Displaying the initial value\n",
    "print(\"Initial value:\", counter.value)\n",
    "\n",
    "# Using the mutator method to increment the value\n",
    "counter.increment(5)\n",
    "\n",
    "# Displaying the updated value\n",
    "print(\"Updated value:\", counter.value)\n"
   ]
  }
 ],
 "metadata": {
  "kernelspec": {
   "display_name": "Python 3",
   "language": "python",
   "name": "python3"
  },
  "language_info": {
   "codemirror_mode": {
    "name": "ipython",
    "version": 3
   },
   "file_extension": ".py",
   "mimetype": "text/x-python",
   "name": "python",
   "nbconvert_exporter": "python",
   "pygments_lexer": "ipython3",
   "version": "3.10.12"
  }
 },
 "nbformat": 4,
 "nbformat_minor": 2
}
